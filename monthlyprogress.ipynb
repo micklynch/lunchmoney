{
 "cells": [
  {
   "cell_type": "code",
   "execution_count": 3,
   "metadata": {},
   "outputs": [
    {
     "name": "stdout",
     "output_type": "stream",
     "text": [
      "Collecting python-dotenv\n",
      "  Obtaining dependency information for python-dotenv from https://files.pythonhosted.org/packages/6a/3e/b68c118422ec867fa7ab88444e1274aa40681c606d59ac27de5a5588f082/python_dotenv-1.0.1-py3-none-any.whl.metadata\n",
      "  Downloading python_dotenv-1.0.1-py3-none-any.whl.metadata (23 kB)\n",
      "Collecting requests\n",
      "  Obtaining dependency information for requests from https://files.pythonhosted.org/packages/70/8e/0e2d847013cb52cd35b38c009bb167a1a26b2ce6cd6965bf26b47bc0bf44/requests-2.31.0-py3-none-any.whl.metadata\n",
      "  Using cached requests-2.31.0-py3-none-any.whl.metadata (4.6 kB)\n",
      "Requirement already satisfied: pandas in /home/mick/.cache/pypoetry/virtualenvs/lunchmoney-VgO7veRn-py3.11/lib64/python3.11/site-packages (2.1.4)\n",
      "Collecting charset-normalizer<4,>=2 (from requests)\n",
      "  Obtaining dependency information for charset-normalizer<4,>=2 from https://files.pythonhosted.org/packages/40/26/f35951c45070edc957ba40a5b1db3cf60a9dbb1b350c2d5bef03e01e61de/charset_normalizer-3.3.2-cp311-cp311-manylinux_2_17_x86_64.manylinux2014_x86_64.whl.metadata\n",
      "  Downloading charset_normalizer-3.3.2-cp311-cp311-manylinux_2_17_x86_64.manylinux2014_x86_64.whl.metadata (33 kB)\n",
      "Collecting idna<4,>=2.5 (from requests)\n",
      "  Obtaining dependency information for idna<4,>=2.5 from https://files.pythonhosted.org/packages/c2/e7/a82b05cf63a603df6e68d59ae6a68bf5064484a0718ea5033660af4b54a9/idna-3.6-py3-none-any.whl.metadata\n",
      "  Downloading idna-3.6-py3-none-any.whl.metadata (9.9 kB)\n",
      "Collecting urllib3<3,>=1.21.1 (from requests)\n",
      "  Obtaining dependency information for urllib3<3,>=1.21.1 from https://files.pythonhosted.org/packages/a2/73/a68704750a7679d0b6d3ad7aa8d4da8e14e151ae82e6fee774e6e0d05ec8/urllib3-2.2.1-py3-none-any.whl.metadata\n",
      "  Downloading urllib3-2.2.1-py3-none-any.whl.metadata (6.4 kB)\n",
      "Collecting certifi>=2017.4.17 (from requests)\n",
      "  Obtaining dependency information for certifi>=2017.4.17 from https://files.pythonhosted.org/packages/ba/06/a07f096c664aeb9f01624f858c3add0a4e913d6c96257acb4fce61e7de14/certifi-2024.2.2-py3-none-any.whl.metadata\n",
      "  Downloading certifi-2024.2.2-py3-none-any.whl.metadata (2.2 kB)\n",
      "Requirement already satisfied: numpy<2,>=1.23.2 in /home/mick/.cache/pypoetry/virtualenvs/lunchmoney-VgO7veRn-py3.11/lib64/python3.11/site-packages (from pandas) (1.26.2)\n",
      "Requirement already satisfied: python-dateutil>=2.8.2 in /home/mick/.cache/pypoetry/virtualenvs/lunchmoney-VgO7veRn-py3.11/lib/python3.11/site-packages (from pandas) (2.8.2)\n",
      "Requirement already satisfied: pytz>=2020.1 in /home/mick/.cache/pypoetry/virtualenvs/lunchmoney-VgO7veRn-py3.11/lib/python3.11/site-packages (from pandas) (2023.3.post1)\n",
      "Requirement already satisfied: tzdata>=2022.1 in /home/mick/.cache/pypoetry/virtualenvs/lunchmoney-VgO7veRn-py3.11/lib/python3.11/site-packages (from pandas) (2023.3)\n",
      "Requirement already satisfied: six>=1.5 in /home/mick/.cache/pypoetry/virtualenvs/lunchmoney-VgO7veRn-py3.11/lib/python3.11/site-packages (from python-dateutil>=2.8.2->pandas) (1.16.0)\n",
      "Downloading python_dotenv-1.0.1-py3-none-any.whl (19 kB)\n",
      "Using cached requests-2.31.0-py3-none-any.whl (62 kB)\n",
      "Downloading certifi-2024.2.2-py3-none-any.whl (163 kB)\n",
      "\u001b[2K   \u001b[90m━━━━━━━━━━━━━━━━━━━━━━━━━━━━━━━━━━━━━━━━\u001b[0m \u001b[32m163.8/163.8 kB\u001b[0m \u001b[31m11.5 MB/s\u001b[0m eta \u001b[36m0:00:00\u001b[0m\n",
      "\u001b[?25hDownloading charset_normalizer-3.3.2-cp311-cp311-manylinux_2_17_x86_64.manylinux2014_x86_64.whl (140 kB)\n",
      "\u001b[2K   \u001b[90m━━━━━━━━━━━━━━━━━━━━━━━━━━━━━━━━━━━━━━━━\u001b[0m \u001b[32m140.3/140.3 kB\u001b[0m \u001b[31m20.5 MB/s\u001b[0m eta \u001b[36m0:00:00\u001b[0m\n",
      "\u001b[?25hDownloading idna-3.6-py3-none-any.whl (61 kB)\n",
      "\u001b[2K   \u001b[90m━━━━━━━━━━━━━━━━━━━━━━━━━━━━━━━━━━━━━━━━\u001b[0m \u001b[32m61.6/61.6 kB\u001b[0m \u001b[31m7.7 MB/s\u001b[0m eta \u001b[36m0:00:00\u001b[0m\n",
      "\u001b[?25hDownloading urllib3-2.2.1-py3-none-any.whl (121 kB)\n",
      "\u001b[2K   \u001b[90m━━━━━━━━━━━━━━━━━━━━━━━━━━━━━━━━━━━━━━━━\u001b[0m \u001b[32m121.1/121.1 kB\u001b[0m \u001b[31m10.8 MB/s\u001b[0m eta \u001b[36m0:00:00\u001b[0m\n",
      "\u001b[?25hInstalling collected packages: urllib3, python-dotenv, idna, charset-normalizer, certifi, requests\n",
      "Successfully installed certifi-2024.2.2 charset-normalizer-3.3.2 idna-3.6 python-dotenv-1.0.1 requests-2.31.0 urllib3-2.2.1\n",
      "\n",
      "\u001b[1m[\u001b[0m\u001b[34;49mnotice\u001b[0m\u001b[1;39;49m]\u001b[0m\u001b[39;49m A new release of pip is available: \u001b[0m\u001b[31;49m23.2.1\u001b[0m\u001b[39;49m -> \u001b[0m\u001b[32;49m24.0\u001b[0m\n",
      "\u001b[1m[\u001b[0m\u001b[34;49mnotice\u001b[0m\u001b[1;39;49m]\u001b[0m\u001b[39;49m To update, run: \u001b[0m\u001b[32;49mpip install --upgrade pip\u001b[0m\n",
      "Note: you may need to restart the kernel to use updated packages.\n"
     ]
    }
   ],
   "source": [
    "%pip install python-dotenv requests pandas"
   ]
  },
  {
   "cell_type": "code",
   "execution_count": 4,
   "metadata": {},
   "outputs": [],
   "source": [
    "from dotenv import load_dotenv\n",
    "import os\n",
    "import requests\n",
    "import json\n",
    "import csv\n",
    "\n",
    "# Load the .env file\n",
    "load_dotenv()\n",
    "\n",
    "# Get the value of the 'LM_API' environmental variable\n",
    "lm_api = os.getenv('LM_API_KEY')\n",
    "lm_hostname = os.getenv('LM_HOSTNAME')\n",
    "\n",
    "# Set the headers for the request\n",
    "headers = {\n",
    "    \"Authorization\": f\"Bearer {lm_api}\"\n",
    "}"
   ]
  },
  {
   "cell_type": "markdown",
   "metadata": {},
   "source": [
    "## Plot monthly data\n",
    "\n",
    " * [ ]  Get the data from transactions and put it into a data frame\n",
    " * [ ]  Plot the data"
   ]
  },
  {
   "cell_type": "code",
   "execution_count": 29,
   "metadata": {},
   "outputs": [
    {
     "name": "stdout",
     "output_type": "stream",
     "text": [
      "         date    amount\n",
      "0  2024-03-01   67.8000\n",
      "1  2024-03-01   27.4000\n",
      "2  2024-03-01  525.0000\n",
      "3  2024-03-01  350.0000\n",
      "4  2024-03-02   18.9500\n",
      "6 transactions\n",
      "Index(['id', 'date', 'amount', 'currency', 'to_base', 'payee', 'category_id',\n",
      "       'category_name', 'category_group_id', 'category_group_name',\n",
      "       'is_income', 'exclude_from_budget', 'exclude_from_totals', 'created_at',\n",
      "       'updated_at', 'status', 'is_pending', 'notes', 'original_name',\n",
      "       'recurring_id', 'recurring_payee', 'recurring_description',\n",
      "       'recurring_cadence', 'recurring_type', 'recurring_amount',\n",
      "       'recurring_currency', 'parent_id', 'has_children', 'group_id',\n",
      "       'is_group', 'asset_id', 'asset_institution_name', 'asset_name',\n",
      "       'asset_display_name', 'asset_status', 'plaid_account_id',\n",
      "       'plaid_account_name', 'plaid_account_mask', 'institution_name',\n",
      "       'plaid_account_display_name', 'plaid_metadata', 'source',\n",
      "       'display_name', 'display_notes', 'account_display_name', 'tags',\n",
      "       'external_id'],\n",
      "      dtype='object')\n",
      "id                              int64\n",
      "date                           object\n",
      "amount                         object\n",
      "currency                       object\n",
      "to_base                       float64\n",
      "payee                          object\n",
      "category_id                     int64\n",
      "category_name                  object\n",
      "category_group_id             float64\n",
      "category_group_name            object\n",
      "is_income                        bool\n",
      "exclude_from_budget              bool\n",
      "exclude_from_totals              bool\n",
      "created_at                     object\n",
      "updated_at                     object\n",
      "status                         object\n",
      "is_pending                       bool\n",
      "notes                          object\n",
      "original_name                  object\n",
      "recurring_id                  float64\n",
      "recurring_payee                object\n",
      "recurring_description          object\n",
      "recurring_cadence              object\n",
      "recurring_type                 object\n",
      "recurring_amount               object\n",
      "recurring_currency             object\n",
      "parent_id                      object\n",
      "has_children                     bool\n",
      "group_id                       object\n",
      "is_group                         bool\n",
      "asset_id                       object\n",
      "asset_institution_name         object\n",
      "asset_name                     object\n",
      "asset_display_name             object\n",
      "asset_status                   object\n",
      "plaid_account_id                int64\n",
      "plaid_account_name             object\n",
      "plaid_account_mask             object\n",
      "institution_name               object\n",
      "plaid_account_display_name     object\n",
      "plaid_metadata                 object\n",
      "source                         object\n",
      "display_name                   object\n",
      "display_notes                  object\n",
      "account_display_name           object\n",
      "tags                           object\n",
      "external_id                    object\n",
      "dtype: object\n",
      "        date  amount\n",
      "0 2024-03-01   67.80\n",
      "1 2024-03-01   27.40\n",
      "2 2024-03-01  525.00\n",
      "3 2024-03-01  350.00\n",
      "4 2024-03-02   18.95\n"
     ]
    },
    {
     "data": {
      "image/png": "[encoded data removed]",
      "text/plain": [
       "<Figure size 640x480 with 1 Axes>"
      ]
     },
     "metadata": {},
     "output_type": "display_data"
    }
   ],
   "source": [
    "import pandas as pd\n",
    "import matplotlib.pyplot as plt\n",
    "\n",
    "\n",
    "# using pandas, get the date of the start of the month and then the date of the previous month\n",
    "today = pd.to_datetime('today')\n",
    "start_of_this_month = today.replace(day=1)\n",
    "\n",
    "url = f\"{lm_hostname}/v1/transactions\"\n",
    "\n",
    "params = {\n",
    "    \"start_date\": start_of_this_month.strftime('%Y-%m-%d'),\n",
    "    \"end_date\": today.strftime('%Y-%m-%d')\n",
    "}\n",
    "\n",
    "response = requests.get(url, headers=headers, params=params)\n",
    "\n",
    "# sum the amount of all the transactions for the current month\n",
    "transactions = response.json()['transactions']\n",
    "df = pd.DataFrame(transactions)\n",
    "\n",
    "print (df[['date', 'amount']].head())\n",
    "\n",
    "print(f\"{len(transactions)} transactions\")\n",
    "print( df.keys())\n",
    "print( df.dtypes)\n",
    "\n",
    "df['date'] = pd.to_datetime(df['date'], format='%Y-%m-%d')\n",
    "df['amount']=df['amount'].astype(float)\n",
    "\n",
    "print (df[['date', 'amount']].head())\n",
    "\n",
    "\n",
    "df['amount'].groupby(df['date'].dt.to_period('d')).sum().plot(kind='bar')\n",
    "\n",
    "\n",
    "plt.show()\n"
   ]
  },
  {
   "cell_type": "markdown",
   "metadata": {},
   "source": [
    "Plot the data in a chart"
   ]
  },
  {
   "cell_type": "code",
   "execution_count": null,
   "metadata": {},
   "outputs": [],
   "source": []
  }
 ],
 "metadata": {
  "kernelspec": {
   "display_name": "lunchmoney-VgO7veRn-py3.11",
   "language": "python",
   "name": "python3"
  },
  "language_info": {
   "codemirror_mode": {
    "name": "ipython",
    "version": 3
   },
   "file_extension": ".py",
   "mimetype": "text/x-python",
   "name": "python",
   "nbconvert_exporter": "python",
   "pygments_lexer": "ipython3",
   "version": "3.11.8"
  }
 },
 "nbformat": 4,
 "nbformat_minor": 2
}
